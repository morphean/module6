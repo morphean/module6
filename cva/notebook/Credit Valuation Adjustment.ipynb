{
 "cells": [
  {
   "cell_type": "code",
   "execution_count": 3,
   "metadata": {
    "collapsed": false
   },
   "outputs": [],
   "source": [
    "fixed=0.39\n",
    "floating=\"3M\"\n",
    "tenor=\"12M\"\n",
    "## payments at 3 months\n",
    "payment=0.25\n",
    "notional=1000000\n",
    "## bootstrapped from credit default spreads for the counterparty\n",
    "spread=0.3 \n",
    "recoveryRate=0.4\n"
   ]
  },
  {
   "cell_type": "markdown",
   "metadata": {},
   "source": [
    "next we need the forward rates and the discount factors.\n",
    "\n",
    "$L_I = S_I$\n",
    "\n",
    "$L1 = \\frac{S_iT_i - S_{i-1}T_{i-1}}{T_i-T_{i-1}}$\n",
    "\n",
    "Forward rates can be derived from the spot rates in continous time.\n"
   ]
  },
  {
   "cell_type": "code",
   "execution_count": 8,
   "metadata": {
    "collapsed": false
   },
   "outputs": [
    {
     "name": "stdout",
     "output_type": "stream",
     "text": [
      "[(0.08333333333333333, 0.01), (0.25, 0.02), (0.5, 0.07), (1, 0.48), (2, 0.64), (3, 0.76), (5, 1.08)]\n"
     ]
    }
   ],
   "source": [
    "import math\n",
    "\n",
    "\"\"\" spot rate data from: \n",
    "https://www.treasury.gov/resource-center/data-chart-center/interest-rates/Pages/Historic-Yield-Data-Visualization.aspx\"\"\"\n",
    "spotRates = [(1, 0.01), \n",
    "             (3, 0.02), \n",
    "             (6, 0.07), \n",
    "             (1*12,      0.48),\n",
    "             (2*12,      0.64),\n",
    "             (3*12,      0.76),\n",
    "             (5*12,      1.08)]\n",
    "def forwardRateFromSpot(item):\n",
    "    print item\n",
    "def generateForwardRateCurve(spotRateData=list):\n",
    "    spotRateData.map(forwardRateFromSpot, range(1, len(spotRate))\n",
    "def discountFactor(spotRate,fwdRate):\n",
    "    return math.exp(-fwdRate*spotRate)\n"
   ]
  },
  {
   "cell_type": "markdown",
   "metadata": {},
   "source": [
    "#### Discount Factors\n",
    "$DF_i = exp(-S_iT_i)$"
   ]
  },
  {
   "cell_type": "markdown",
   "metadata": {},
   "source": [
    "#### Default Probabilities\n",
    "$PD_i = exp(-\\lambda T_{i-1}) -exp(-\\lambda T_i)\\quad \\forall i = 1,2,3,4$"
   ]
  },
  {
   "cell_type": "code",
   "execution_count": null,
   "metadata": {
    "collapsed": true
   },
   "outputs": [],
   "source": []
  }
 ],
 "metadata": {
  "kernelspec": {
   "display_name": "Python 2",
   "language": "python",
   "name": "python2"
  },
  "language_info": {
   "codemirror_mode": {
    "name": "ipython",
    "version": 2
   },
   "file_extension": ".py",
   "mimetype": "text/x-python",
   "name": "python",
   "nbconvert_exporter": "python",
   "pygments_lexer": "ipython2",
   "version": "2.7.11"
  }
 },
 "nbformat": 4,
 "nbformat_minor": 0
}
