{
 "cells": [
  {
   "cell_type": "markdown",
   "metadata": {},
   "source": [
    "# CVA Calculation for an Interest Rate Swap"
   ]
  },
  {
   "cell_type": "markdown",
   "metadata": {},
   "source": [
    "- Calculate the credit valuation adjustment to the price of an interest rate swap using the credit spreads for Counterparty B.\n",
    "- Plot MtM values (a good plot will show results from many simulations)\n",
    "- Produce smoothed Expected Exposure prodile using the mean of the exposure distribution - distribution of Forward LIBORs at each time $T_i+1$.\n",
    "- Produce Potential Future Exposure with the simulated $L_6M$ taken from the $97.5^{th}$ percentile.\n",
    "\n",
    "The details for the IRS are as follows:\n",
    "\n",
    "Recovery Rate = 40%\n",
    "\n",
    "Tenor = 5Y\n",
    "\n",
    "Payments Frequency = 6M\n",
    "\n",
    "MtM Position = Floating Leg - Fixed Leg\n",
    "\n",
    "Counterparty A = Sovereign UK (http://data.cnbc.com/quotes/GBCD5) -> 43.00\n",
    "\n",
    "Counterparty B = Sovereign Germany (http://data.cnbc.com/quotes/DECD5) -> 20.245\n",
    "\n",
    "Credit spread value as per CNBC = 22.755 basis points (0.2275%)\n",
    "\n",
    "We will need to compute:\n",
    "\n",
    "- Fwd LIBOR rates (via monte carlo)\n",
    "- Discount Factors\n",
    "- Exposure\n",
    "- Expected Exposure\n",
    "\n",
    "And once we have all of those parts we will be able to determine the CVA (Credit Valuation Adjustment) for the interest rate swap outlined above."
   ]
  },
  {
   "cell_type": "markdown",
   "metadata": {
    "collapsed": true
   },
   "source": [
    "### Forward LIBOR\n",
    "\n",
    "To provide the $L_6M$ structure, we will generate the Forward LIBOR using _One Factor Libor Market Model_, described in 'Advanced Quantative Finance', Alonso Peña. \n",
    "\n",
    "I have a particular interest in parallel and GPU based computing so I took it as an opportunity to rewrite the reference material in Python to aid integration with the CUDA GPU library provided by nVidia (https://developer.nvidia.com/cuda-toolkit) and also the Intel MKL libraries for optimized Math functions on intel processors. These are conveniently provided by the default install of Anaconda (http://www.continuum.io) and are utilitised under the thirty day free trial.\n"
   ]
  },
  {
   "cell_type": "code",
   "execution_count": 2,
   "metadata": {
    "collapsed": false
   },
   "outputs": [],
   "source": [
    "import numpy as np\n",
    "import accelerate as acc\n",
    "from app.gpuCheck import getGpuCount\n",
    "\n",
    "from accelerate.cuda.rand import PRNG, QRNG\n",
    "\n",
    "gpuEnabled = False # gpu acceleration is not available in jupyter..\n",
    "debug = False # code here is pretty much commented so set to false here..\n",
    "\n",
    "# print 'Checking for compatible GPU ...'\n",
    "# if getGpuCount() < 1:\n",
    "#     print 'no compatible GPU installed, will revert to using numpy libraries for RNG'\n",
    "# else:\n",
    "#     print 'nVidia GPU(s) found: ', getGpuCount()\n",
    "#     print 'Enabling GPU for RNG'\n",
    "#     gpuEnabled = True"
   ]
  },
  {
   "cell_type": "markdown",
   "metadata": {},
   "source": [
    "The notebook itself runs the normal versions of this, if you are interested in running the GPU enabled versions. You will need an NVidia GFX card with compute capability of greater than 2.0 and have installed the latest cuda drivers. Once installed you can run the python files from disk."
   ]
  },
  {
   "cell_type": "markdown",
   "metadata": {},
   "source": [
    "### Utility functions\n",
    "\n",
    "Let's setup some utility functions for random number generation. (the CUDA code is included here but commented out since it will cause kernel panics in Jupyter)"
   ]
  },
  {
   "cell_type": "code",
   "execution_count": 8,
   "metadata": {
    "collapsed": true
   },
   "outputs": [],
   "source": [
    "def getPseudoRandomNumbers_Uniform(length):\n",
    "    \"\"\"\n",
    "\n",
    "    generates a an array of psuedo random numbers from uniform distribution using numpy\n",
    "\n",
    "    :param length:\n",
    "    :return:\n",
    "    \"\"\"\n",
    "    rand = []\n",
    "    for i in range(length):\n",
    "        rand[i] = np.random.uniform(0., 1.)\n",
    "    return tuple(rand)\n",
    "\n",
    "def getBoxMullerSample():\n",
    "    t = 1.0\n",
    "    while t >= 1.0 or t == 0.0:\n",
    "        x, y = getPseudoRandomNumbers_Uniform(2)\n",
    "        t = np.square(x) + np.square(y)\n",
    "    result = x * np.sqrt(-2 * np.log(t) / t)\n",
    "    return result\n",
    "\n",
    "\n",
    "# def getPseudoRandomNumbers_Uniform_cuda(shape=tuple):\n",
    "#     \"\"\"\n",
    "\n",
    "#     generates a an array of psuedo random numbers from uniform distribution using CUDA\n",
    "\n",
    "#     :param length:\n",
    "#     :return:\n",
    "#     \"\"\"\n",
    "#     prng = PRNG(rndtype=PRNG.XORWOW)\n",
    "#     rand = np.empty(100000)\n",
    "#     prng.uniform(rand)\n",
    "\n",
    "#     return rand[:length]\n",
    "\n",
    "\n",
    "# def getSOBOLseq_cuda(length=int):\n",
    "#     \"\"\"\n",
    "\n",
    "#     returns an nd array of supplied length containing a SOBOL sequence of int64\n",
    "\n",
    "#     only for use on systems with CUDA libraries installed\n",
    "\n",
    "#     :param length:\n",
    "#     :return ndarray:\n",
    "#     \"\"\"\n",
    "#     qrng = QRNG(rndtype=QRNG.SOBOL64)\n",
    "#     rand = np.ndarray(shape=100000, dtype=int)\n",
    "#     qrng.generate(rand)\n",
    "\n",
    "#     return rand[:length]\n",
    "\n"
   ]
  },
  {
   "cell_type": "markdown",
   "metadata": {},
   "source": [
    "### Calculate Credit Default Swap Spreads\n",
    "\n",
    "In order to infer the correct lambda to use, we need to calculate the spread value for the CDS. \n",
    "\n",
    "So for the value of the default leg, we will use:\n",
    "\n",
    "$PV(default) = \\sum_{i=1}^{T_i}N . (1-R) . DF_i . PD(T_i,T_{i-1}) $\n",
    "\n",
    "$PV(premium) = \\sum_{i=1}^{T_i} \\pi . N . \\Delta t . DF_i . PD(T_i) $\n",
    "\n",
    "Bootstrapping the hazard rates using the formula below:\n",
    "\n",
    "$\\lambda_k = \\frac{-1}{\\Delta t} ln ( \\frac{P(T_{k-1}D(0,T_k)(1-R)+\\sum{n=1}^{k-1}}{} ) $\n",
    "\n",
    "\n",
    "\n",
    "To encapsulate this I have created the CDS class below:"
   ]
  },
  {
   "cell_type": "code",
   "execution_count": null,
   "metadata": {
    "collapsed": true
   },
   "outputs": [],
   "source": []
  },
  {
   "cell_type": "code",
   "execution_count": null,
   "metadata": {
    "collapsed": true
   },
   "outputs": [],
   "source": []
  },
  {
   "cell_type": "code",
   "execution_count": null,
   "metadata": {
    "collapsed": true
   },
   "outputs": [],
   "source": []
  },
  {
   "cell_type": "code",
   "execution_count": null,
   "metadata": {
    "collapsed": true
   },
   "outputs": [],
   "source": []
  },
  {
   "cell_type": "code",
   "execution_count": 5,
   "metadata": {
    "collapsed": true
   },
   "outputs": [],
   "source": [
    "x,y = np.cumsum(getPseudoRandomNumbers_Uniform(2))\n",
    "y = np.cumsum(np.random.randn(n))"
   ]
  },
  {
   "cell_type": "code",
   "execution_count": 6,
   "metadata": {
    "collapsed": true
   },
   "outputs": [],
   "source": [
    "k = 10  # We add 10 intermediary points between two \n",
    "        # successive points.\n",
    "# We interpolate x and y.\n",
    "x2 = np.interp(np.arange(n*k), np.arange(n)*k, x)\n",
    "y2 = np.interp(np.arange(n*k), np.arange(n)*k, y)"
   ]
  },
  {
   "cell_type": "code",
   "execution_count": 7,
   "metadata": {
    "collapsed": false
   },
   "outputs": [
    {
     "data": {
      "image/png": "[encoded data removed]",
      "text/plain": [
       "<matplotlib.figure.Figure at 0x112847810>"
      ]
     },
     "metadata": {},
     "output_type": "display_data"
    }
   ],
   "source": [
    "# Now, we draw our points with a gradient of colors.\n",
    "plt.scatter(x2, y2, c=range(n*k), linewidths=0,\n",
    "            marker='o', s=3, cmap=plt.cm.jet,)\n",
    "plt.axis('equal');\n",
    "plt.xticks([]); plt.yticks([]);"
   ]
  },
  {
   "cell_type": "code",
   "execution_count": null,
   "metadata": {
    "collapsed": true
   },
   "outputs": [],
   "source": []
  },
  {
   "cell_type": "code",
   "execution_count": null,
   "metadata": {
    "collapsed": true
   },
   "outputs": [],
   "source": []
  },
  {
   "cell_type": "code",
   "execution_count": null,
   "metadata": {
    "collapsed": false
   },
   "outputs": [],
   "source": [
    "fixed=0.39\n",
    "floating=\"3M\"\n",
    "tenor=\"12M\"\n",
    "## payments at 3 months\n",
    "payment=0.25\n",
    "notional=1000000\n",
    "## bootstrapped from credit default spreads for the counterparty\n",
    "spread=0.3 \n",
    "recoveryRate=0.4\n"
   ]
  },
  {
   "cell_type": "markdown",
   "metadata": {},
   "source": [
    "next we need the forward rates and the discount factors.\n",
    "\n",
    "$L_I = S_I$\n",
    "\n",
    "$L1 = \\frac{S_iT_i - S_{i-1}T_{i-1}}{T_i-T_{i-1}}$\n",
    "\n",
    "Forward rates can be derived from the spot rates in continous time.\n"
   ]
  },
  {
   "cell_type": "code",
   "execution_count": null,
   "metadata": {
    "collapsed": false
   },
   "outputs": [],
   "source": [
    "import math\n",
    "\n",
    "\"\"\" spot rate data from: \n",
    "https://www.treasury.gov/resource-center/data-chart-center/interest-rates/Pages/Historic-Yield-Data-Visualization.aspx\"\"\"\n",
    "spotRates = [(1, 0.01), \n",
    "             (3, 0.02), \n",
    "             (6, 0.07), \n",
    "             (1*12,      0.48),\n",
    "             (2*12,      0.64),\n",
    "             (3*12,      0.76),\n",
    "             (5*12,      1.08)]\n",
    "def forwardRateFromSpot(item):\n",
    "    print item\n",
    "def generateForwardRateCurve(spotRateData=list):\n",
    "    spotRateData.map(forwardRateFromSpot, range(1, len(spotRate))\n",
    "def discountFactor(spotRate,fwdRate):\n",
    "    return math.exp(-fwdRate*spotRate)\n"
   ]
  },
  {
   "cell_type": "markdown",
   "metadata": {},
   "source": [
    "#### Discount Factors\n",
    "$DF_i = exp(-S_iT_i)$"
   ]
  },
  {
   "cell_type": "markdown",
   "metadata": {},
   "source": [
    "#### Default Probabilities\n",
    "$PD_i = exp(-\\lambda T_{i-1}) -exp(-\\lambda T_i)\\quad \\forall i = 1,2,3,4$"
   ]
  },
  {
   "cell_type": "code",
   "execution_count": null,
   "metadata": {
    "collapsed": true
   },
   "outputs": [],
   "source": []
  },
  {
   "cell_type": "markdown",
   "metadata": {},
   "source": [
    "### References\n",
    "\n",
    "[1] _'The One Factor Libor Market Model Using Monte Carlo Simulation: An Empirical Investigation'_, Pena, di Sabatino,Ligato,Ventura,Bertagna. Dec 2010\n",
    "\n",
    "[2] _'Advanced Quantitative Finance with C++'_, Pena. 2014\n",
    "\n",
    "[3] _'Python for Finance'_, Yves Hilpisch. 2014\n",
    "\n",
    "[4] _'emscriptem'_, http://kripken.github.io/emscripten-site/. - C++ to JavaScript compiler.\n",
    "\n",
    "[5] _'VisPy'_, http://cyrille.rossant.net/compiler-data-visualization/\n",
    "\n",
    "[3] _'Title'_, Author, (Mon YYYY)\n"
   ]
  },
  {
   "cell_type": "code",
   "execution_count": null,
   "metadata": {
    "collapsed": true
   },
   "outputs": [],
   "source": []
  },
  {
   "cell_type": "code",
   "execution_count": null,
   "metadata": {
    "collapsed": true
   },
   "outputs": [],
   "source": []
  }
 ],
 "metadata": {
  "kernelspec": {
   "display_name": "Python [Root]",
   "language": "python",
   "name": "Python [Root]"
  },
  "language_info": {
   "codemirror_mode": {
    "name": "ipython",
    "version": 2
   },
   "file_extension": ".py",
   "mimetype": "text/x-python",
   "name": "python",
   "nbconvert_exporter": "python",
   "pygments_lexer": "ipython2",
   "version": "2.7.12"
  }
 },
 "nbformat": 4,
 "nbformat_minor": 0
}
