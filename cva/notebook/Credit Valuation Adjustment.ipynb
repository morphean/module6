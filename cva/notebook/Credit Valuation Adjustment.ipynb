{
 "cells": [
  {
   "cell_type": "markdown",
   "metadata": {},
   "source": [
    "# CVA Calculation for an Interest Rate Swap"
   ]
  },
  {
   "cell_type": "markdown",
   "metadata": {},
   "source": [
    "- Calculate the credit valuation adjustment to the price of an interest rate swap using the credit spreads for Counterparty B.\n",
    "- Plot MtM values (a good plot will show results from many simulations)\n",
    "- Produce smoothed Expected Exposure prodile using the mean of the exposure distribution - distribution of Forward LIBORs at each time $T_i+1$.\n",
    "- Produce Potential Future Exposure with the simulated $L_6M$ taken from the $97.5^{th}$ percentile.\n",
    "\n",
    "The details for the IRS are as follows:\n",
    "\n",
    "Recovery Rate = 40%\n",
    "\n",
    "Tenor = 5Y\n",
    "\n",
    "Payments Frequency = 6M\n",
    "\n",
    "MtM Position = Floating Leg - Fixed Leg\n",
    "\n",
    "Counterparty A = Sovereign UK (http://data.cnbc.com/quotes/GBCD5) -> 43.00\n",
    "\n",
    "Counterparty B = Sovereign Germany (http://data.cnbc.com/quotes/DECD5) -> 20.245\n",
    "\n",
    "Credit spread value as per CNBC = 22.755 basis points (0.2275%, 0.002275)\n",
    "\n",
    "We will need to compute:\n",
    "\n",
    "- Fwd LIBOR rates (via monte carlo)\n",
    "- Discount Factors\n",
    "- Exposure\n",
    "- Expected Exposure\n",
    "\n",
    "And once we have all of those parts we will be able to determine the CVA (Credit Valuation Adjustment) for the interest rate swap outlined above."
   ]
  },
  {
   "cell_type": "markdown",
   "metadata": {
    "collapsed": true
   },
   "source": [
    "### Forward LIBOR\n",
    "\n",
    "To provide the $L_6M$ structure, we will generate the Forward LIBOR using _One Factor Libor Market Model_, described in 'Advanced Quantative Finance', Alonso Peña. \n",
    "\n",
    "I have a particular interest in parallel and GPU based computing so I took it as an opportunity to rewrite the reference material in Python to aid integration with the CUDA GPU library provided by nVidia (https://developer.nvidia.com/cuda-toolkit) and also the Intel MKL libraries for optimized Math functions on intel processors. These are conveniently provided by the default install of Anaconda (http://www.continuum.io) and are utilitised under the thirty day free trial.\n"
   ]
  },
  {
   "cell_type": "code",
   "execution_count": 2,
   "metadata": {
    "collapsed": false
   },
   "outputs": [],
   "source": [
    "import numpy as np\n",
    "import accelerate as acc\n",
    "from app.gpuCheck import getGpuCount\n",
    "\n",
    "from accelerate.cuda.rand import PRNG, QRNG\n",
    "\n",
    "gpuEnabled = False # gpu acceleration is not available in jupyter..\n",
    "debug = False # code here is pretty much commented so set to false here..\n",
    "\n",
    "# print 'Checking for compatible GPU ...'\n",
    "# if getGpuCount() < 1:\n",
    "#     print 'no compatible GPU installed, will revert to using numpy libraries for RNG'\n",
    "# else:\n",
    "#     print 'nVidia GPU(s) found: ', getGpuCount()\n",
    "#     print 'Enabling GPU for RNG'\n",
    "#     gpuEnabled = True"
   ]
  },
  {
   "cell_type": "markdown",
   "metadata": {},
   "source": [
    "The notebook itself runs the normal versions of this, if you are interested in running the GPU enabled versions. You will need an NVidia GFX card with compute capability of greater than 2.0 and have installed the latest cuda drivers. Once installed you can run the python files from disk. Cuda code is included but commented out in the notebook, it can cause kernel panics and is somewhat unstable when running in an iPython environment."
   ]
  },
  {
   "cell_type": "markdown",
   "metadata": {},
   "source": [
    "### Utility functions\n",
    "\n",
    "Let's setup some utility functions for random number generation. (the CUDA code is included here but commented out since it will cause kernel panics in Jupyter)"
   ]
  },
  {
   "cell_type": "code",
   "execution_count": 8,
   "metadata": {
    "collapsed": true
   },
   "outputs": [],
   "source": [
    "\n",
    "\n"
   ]
  },
  {
   "cell_type": "markdown",
   "metadata": {},
   "source": [
    "### Calculate Credit Default Swap Spreads\n",
    "\n",
    "In order to infer the correct lambda to use, we need to calculate the spread value for the CDS. \n",
    "\n",
    "So for the value of the default leg, we will use:\n",
    "\n",
    "$PV(default) = \\sum_{i=1}^{T_i}N . (1-R) . DF_i . PD(T_i,T_{i-1}) $\n",
    "\n",
    "$PV(premium) = \\sum_{i=1}^{T_i} \\pi . N . \\Delta t . DF_i . PD(T_i) $\n",
    "\n",
    "Bootstrapping the hazard rates using the formula below:\n",
    "\n",
    "$\\lambda_k = \\frac{-1}{\\Delta t} ln ( \\frac{P(T_{k-1}D(0,T_k)(1-R)+\\sum{n=1}^{k-1}}{} ) $\n",
    "\n",
    "#### Discount Factors\n",
    "The following formula has been used to derive the discount factors:\n",
    "\n",
    "$DF_i = exp(-S_iT_i)$\n",
    "\n",
    "#### Default Probabilities\n",
    "The following formula has been used to derive the default probablities:\n",
    "\n",
    "$PD_i = exp(-\\lambda T_{i-1}) -exp(-\\lambda T_i)\\quad \\forall i = 1,2,3,4$\n",
    "\n",
    "#### Forward Rates\n",
    "next we need the forward rates and the discount factors.\n",
    "\n",
    "$L_I = S_I$\n",
    "\n",
    "$L_1 = \\frac{S_iT_i - S_{i-1}T_{i-1}}{T_i-T_{i-1}}$\n",
    "\n",
    "Forward rates can be derived from the spot rates in continous time.\n",
    "\n",
    "To encapsulate this I have created the CDS class below:"
   ]
  },
  {
   "cell_type": "code",
   "execution_count": 1,
   "metadata": {
    "collapsed": false
   },
   "outputs": [
    {
     "name": "stdout",
     "output_type": "stream",
     "text": [
      "-7772.71007138\n"
     ]
    }
   ],
   "source": [
    "from numpy import array, ones, zeros, linspace, exp, put, sum, log\n",
    "\n",
    "\"\"\"\n",
    "above are the imports form the NumPy packages www.numpy.org\n",
    "they come as part of the Anaconda distribution from continuum.io\n",
    "\"\"\"\n",
    "\n",
    "class CreditDefaultSwap(object):\n",
    "    def __init__(self, N=float, timesteps=int, discountFactors=list, lamda=float, seed=float):\n",
    "        self.N = N  # notional\n",
    "        self.__lamda = lamda\n",
    "        self.__seed = seed\n",
    "        self.recoveryRate = 0.4\n",
    "        self.Dt = 0.25\n",
    "        self.timesteps = linspace(0, 1, timesteps + 1)\n",
    "        self.discountFactors = discountFactors\n",
    "        self.pT = self.generateProbSurvival()\n",
    "        self.premiumLegsSpread = self.calculatePremiumLegSpreads()\n",
    "        self.__premiumLegSum = sum(self.premiumLegsSpread)\n",
    "        self.pD = self.generateProbDefault()\n",
    "        self.defaultLegsSpread = self.calculateDefaultLegSpreads()\n",
    "        self.__defaultLegSum = sum(self.defaultLegsSpread)\n",
    "        self.fairSpread = self.premiumLegsSpread / self.defaultLegsSpread\n",
    "\n",
    "    @property\n",
    "    def premiumLegSum(self):\n",
    "        return self.__premiumLegSum\n",
    "\n",
    "    @property\n",
    "    def defaultLegSum(self):\n",
    "        return self.__defaultLegSum\n",
    "\n",
    "    @property\n",
    "    def markToMarket(self):\n",
    "        return self.__premiumLegSum - self.__defaultLegSum\n",
    "\n",
    "    @property\n",
    "    def lamda(self):\n",
    "        return self.__lamda\n",
    "\n",
    "    @property\n",
    "    def seed(self):\n",
    "        return self.__seed\n",
    "\n",
    "    def generateProbSurvival(self):\n",
    "        \"\"\"\n",
    "        using $\\exp^{-\\lambda*T_i}$\n",
    "        :return: \n",
    "        \"\"\"\n",
    "        pt = ones(len(self.timesteps))\n",
    "        for index, t in enumerate(self.timesteps):\n",
    "            if t > 0:\n",
    "                ps = exp(self.lamda * -1 * t)\n",
    "                put(pt, index, ps)\n",
    "        return pt\n",
    "\n",
    "    def generateProbDefault(self):\n",
    "        \"\"\"\n",
    "        using $P(T,0) = P_{i-1} - P_i$\n",
    "        :return: \n",
    "        \"\"\"\n",
    "        pd = zeros(len(self.timesteps))\n",
    "        for index, pt in enumerate(self.pT):\n",
    "            if index > 0:\n",
    "                pdi = self.pT[index - 1] - pt\n",
    "                put(pd, index, pdi)\n",
    "\n",
    "        return pd\n",
    "\n",
    "    def calculatePremiumLegSpreads(self):\n",
    "        \"\"\"\n",
    "        returns the list of the premium leg values\n",
    "        :return: array\n",
    "        \"\"\"\n",
    "        #          assume 1%\n",
    "        spreads = zeros(len(self.timesteps))\n",
    "        for index, (df, pt) in enumerate(zip(self.discountFactors, self.pT)):\n",
    "            if index > 0:\n",
    "                spread = self.N * self.Dt * self.seed * df * pt\n",
    "                put(spreads, index, spread)\n",
    "        return spreads\n",
    "\n",
    "    def calculateDefaultLegSpreads(self):\n",
    "        \"\"\"\n",
    "        returns the list of the default leg values\n",
    "        :return: array\n",
    "        \"\"\"\n",
    "        #          assume 1%\n",
    "        spreads = zeros(len(self.timesteps))\n",
    "        for index, (df, pd) in enumerate(zip(self.discountFactors, self.pD)):\n",
    "            if index > 0:\n",
    "                spread = self.N * (1 - self.recoveryRate) * df * pd\n",
    "                put(spreads, index, spread)\n",
    "        return spreads\n",
    "\n",
    "df = [0, 0.9975, 0.9900, 0.9779, 0.9607]\n",
    "seed = 0.01 # initial guess\n",
    "payments = 4\n",
    "notional = 1000000\n",
    "\n",
    "# fixed hazard rate\n",
    "lamda = 0.03\n",
    "\n",
    "c = CreditDefaultSwap(N=notional, timesteps=payments, discountFactors=df, lamda=lamda, seed=seed)\n",
    "\n",
    "beforeOptimisation = c.markToMarket\n",
    "\n",
    "print beforeOptimisation"
   ]
  },
  {
   "cell_type": "markdown",
   "metadata": {
    "collapsed": true
   },
   "source": [
    "We need to now compute what is the value that should be used. So by using an optimising algorithm we can minimise the value of markToMarket to 0. This will then give us the value that we should use for the hazard rate $\\lambda$."
   ]
  },
  {
   "cell_type": "code",
   "execution_count": 2,
   "metadata": {
    "collapsed": false
   },
   "outputs": [
    {
     "name": "stdout",
     "output_type": "stream",
     "text": [
      "[ 0.01663204]\n"
     ]
    }
   ],
   "source": [
    "def calibrateCDS(lamda=float, seed=0.01):\n",
    "    global CreditDefaultSwap\n",
    "    c = CreditDefaultSwap(N=notional, timesteps=payments, discountFactors=df, lamda=lamda, seed=seed)\n",
    "    return c.markToMarket\n",
    "\n",
    "from scipy.optimize import fsolve\n",
    "\n",
    "calibratedLambda = fsolve(calibrateCDS, lamda)\n",
    "\n",
    "print calibratedLambda"
   ]
  },
  {
   "cell_type": "markdown",
   "metadata": {},
   "source": [
    "The optimisation routine is provided by parts of the SciPy Optimize library, so we will need to import this. it needs to be wrapped in function so that the optimiser is able to call it with different values."
   ]
  },
  {
   "cell_type": "code",
   "execution_count": 5,
   "metadata": {
    "collapsed": false
   },
   "outputs": [
    {
     "name": "stdout",
     "output_type": "stream",
     "text": [
      "-1.81898940355e-12\n"
     ]
    }
   ],
   "source": [
    "c = CreditDefaultSwap(N=notional, timesteps=payments, discountFactors=df, lamda=calibratedLambda, seed=seed)\n",
    "\n",
    "print c.markToMarket"
   ]
  },
  {
   "cell_type": "markdown",
   "metadata": {},
   "source": [
    "Which is pretty close to zero so we can go ahead and use this value for our lambda in our simulation. Of course that was using some test data to validate that our implementation is correct.\n",
    "\n",
    "The real data will come from the BOE spot curve which we will used a starting point for our simulations.\n",
    "\n",
    "We will need to generate a large number of random numbers, these are normally provided by the methods in the numpy.random package but there are also others such as sobol and halton which are 3rd party libraries. "
   ]
  },
  {
   "cell_type": "markdown",
   "metadata": {
    "collapsed": true
   },
   "source": [
    "## Random Number Generation\n",
    "\n",
    "In order to facilitate simplified random number generation, it seemed appropriate to setup a utilty class to do this. It has also given the opportunity to explore the ability to use the GPU for both Pseudo Random Number Generation and Quasi Random Number Generation.\n",
    "\n",
    "Additional libraries:\n",
    "\n",
    "ghalton - https://github.com/fmder/ghalton\n",
    "\n",
    "sobol_seq - https://github.com/naught101/sobol_seq\n",
    "\n",
    "conda (package manager for Anaconda) does not install these properly so it is best to just clone and install it in the normal python way:\n",
    "\n",
    "```python\n",
    "cd itemToInstall/\n",
    "python setup.py build\n",
    "python setup.py test #(sometimes this fails, when no tests have been written)\n",
    "python setup.py install #(sometimes requires admin privs depending on way python has been installed)]\n",
    "```\n",
    "\n",
    "these items are included on the usb drives."
   ]
  },
  {
   "cell_type": "code",
   "execution_count": 13,
   "metadata": {
    "collapsed": true
   },
   "outputs": [],
   "source": [
    "import ghalton\n",
    "import sobol_seq\n",
    "from accelerate.cuda.rand import PRNG, QRNG\n",
    "from numpy import array, empty, random, square, log, sqrt\n",
    "\n",
    "\n",
    "def getPseudoRandomNumbers_Uniform(length=int):\n",
    "    \"\"\"\n",
    "\n",
    "    generates a an array of psuedo random numbers from uniform distribution using numpy\n",
    "\n",
    "    :param length:\n",
    "    :return:\n",
    "    \"\"\"\n",
    "    return random.uniform(size=length)\n",
    "\n",
    "\n",
    "def getPseudoRandomNumbers_Uniform_cuda(length=int):\n",
    "    # type: (object) -> object\n",
    "    \"\"\"\n",
    "\n",
    "    generates a an array of psuedo random numbers from uniform distribution using CUDA\n",
    "\n",
    "    :rtype: ndarray\n",
    "    :param length:\n",
    "    :return:\n",
    "    \"\"\"\n",
    "    prng = PRNG(rndtype=PRNG.XORWOW)\n",
    "    rand = empty(length)\n",
    "    prng.uniform(rand)\n",
    "\n",
    "    return rand\n",
    "\n",
    "\n",
    "def getPseudoRandomNumbers_Standard(shape=tuple):\n",
    "    \"\"\"\n",
    "\n",
    "    generates a an array of psuedo random numbers from standard normal distribution using numpy\n",
    "\n",
    "    :param length:\n",
    "    :return:\n",
    "    \"\"\"\n",
    "    return random.normal(size=shape)\n",
    "\n",
    "\n",
    "def getPseudoRandomNumbers_Standard_cuda(shape=tuple):\n",
    "    # type: (object) -> object\n",
    "    \"\"\"\n",
    "\n",
    "    generates a an array of psuedo random numbers from standard normal distribution using CUDA\n",
    "\n",
    "    :rtype: ndarray\n",
    "    :param length:\n",
    "    :return:\n",
    "    \"\"\"\n",
    "    prng = PRNG(rndtype=PRNG.XORWOW)\n",
    "    rand = empty(shape)\n",
    "    prng.normal(rand, 0, 1)\n",
    "\n",
    "    return rand\n",
    "\n",
    "\n",
    "def getSOBOLseq_standard(shape=tuple):\n",
    "    \"\"\"\n",
    "    generate a SOBOL sequence\n",
    "    \n",
    "    :param shape: tuple of row, column of the desired return matrix\n",
    "    :return:\n",
    "    \"\"\"\n",
    "    return sobol_seq.i4_sobol_generate_std_normal(shape)\n",
    "\n",
    "\n",
    "# def getSOBOLseq_uniform(shape=tuple):\n",
    "#     return sobol_seq.i4_uniform(shape)\n",
    "\n",
    "def getSOBOLseq_cuda(length=int):\n",
    "    \"\"\"\n",
    "\n",
    "    returns an nd array of supplied length containing a SOBOL sequence of int64\n",
    "\n",
    "    only for use on systems with CUDA libraries installed\n",
    "\n",
    "    :param length:\n",
    "    :return ndarray:\n",
    "    \"\"\"\n",
    "    qrng = QRNG(rndtype=QRNG.SOBOL64)\n",
    "    rand = empty(shape=length, dtype=int)\n",
    "    qrng.generate(rand)\n",
    "\n",
    "    return rand\n",
    "\n",
    "\n",
    "def getHaltonSeq(dimensions=int, length=int):\n",
    "    \"\"\"\n",
    "\n",
    "    returns an array Halton sequence of quasi random number\n",
    "\n",
    "    :param dimensions: number of dimensions of matrix (columsn)\n",
    "    :param length: number of sequences returned (rows)\n",
    "    :return:\n",
    "    \"\"\"\n",
    "    sequencer = ghalton.Halton(dimensions)\n",
    "    return sequencer.get(length)\n",
    "\n",
    "\n",
    "def getBoxMullerSample(randSource=array):\n",
    "    t = 1.0\n",
    "    while t >= 1.0 or t == 0.0:\n",
    "        randValues = random.choice(randSource, 2)\n",
    "        x = randValues[0]\n",
    "        y = randValues[1]\n",
    "        t = square(x) + square(y)\n",
    "\n",
    "    result = x * sqrt(-2 * log(t) / t)\n",
    "    return result\n"
   ]
  },
  {
   "cell_type": "markdown",
   "metadata": {},
   "source": [
    "## Monte Carlo Simulation\n",
    "\n",
    "We will now use a Monte Carlo simulation to compute the expected < DL > and expected < PL >. With the expectation of the fair spread being:\n",
    "\n",
    "$ E [ s ] = \\frac{ \\langle DL \\rangle}{\\langle PL \\rangle} $\n",
    "\n",
    "To bootstrap the LIBOR curve we will use the One Factor Libor Model [1]. Originally implemented in C++, this has been recoded in Python. It could be argued that this would imply a slight loss in performance from C++, with C++ being as low level as possible without becoming assembler. An optimisation for python here would be to use a Cython wrapper to get as close as possible to the original C. One of the the languages advantages here is not to have to manage memory and pointers manually. \n"
   ]
  },
  {
   "cell_type": "code",
   "execution_count": 1,
   "metadata": {
    "collapsed": true
   },
   "outputs": [],
   "source": [
    "# taken from BOE spot curve data\n",
    "initRates_BOE_6m = [0.423546874, 0.425980925, 0.45950348, 0.501875772, 0.551473011, 0.585741857, 0.626315731,\n",
    "                    0.667316554, 0.709477279, 0.753122018]\n",
    "\n",
    "# to simulate the L6M\n"
   ]
  },
  {
   "cell_type": "markdown",
   "metadata": {},
   "source": [
    "\n",
    "\n",
    "\n",
    "\n",
    "next we need the forward rates and the discount factors.\n",
    "\n",
    "$L_I = S_I$\n",
    "\n",
    "$L1 = \\frac{S_iT_i - S_{i-1}T_{i-1}}{T_i-T_{i-1}}$\n",
    "\n",
    "Forward rates can be derived from the spot rates in continous time.\n"
   ]
  },
  {
   "cell_type": "markdown",
   "metadata": {},
   "source": [
    "#### Discount Factors\n",
    "$DF_i = exp(-S_iT_i)$"
   ]
  },
  {
   "cell_type": "markdown",
   "metadata": {},
   "source": [
    "#### Default Probabilities\n",
    "$PD_i = exp(-\\lambda T_{i-1}) -exp(-\\lambda T_i)\\quad \\forall i = 1,2,3,4$"
   ]
  },
  {
   "cell_type": "markdown",
   "metadata": {
    "collapsed": true
   },
   "source": [
    "# Conclusions\n",
    "\n",
    "Credit Model pricing is particularly suited to computational methods since it can be a laborious process to get all the mechanics of the models in place. "
   ]
  },
  {
   "cell_type": "code",
   "execution_count": null,
   "metadata": {
    "collapsed": false
   },
   "outputs": [],
   "source": [
    "\n"
   ]
  },
  {
   "cell_type": "markdown",
   "metadata": {},
   "source": [
    "### References\n",
    "\n",
    "[1] _'The One Factor Libor Market Model Using Monte Carlo Simulation: An Empirical Investigation'_, Pena, di Sabatino,Ligato,Ventura,Bertagna. Dec 2010\n",
    "\n",
    "[2] _'Advanced Quantitative Finance with C++'_, Pena. 2014\n",
    "\n",
    "[3] _'Python for Finance'_, Yves Hilpisch. 2014\n",
    "\n",
    "[4] _'emscriptem'_, http://kripken.github.io/emscripten-site/. - C++ to JavaScript compiler.\n",
    "\n",
    "[5] _'VisPy'_, http://cyrille.rossant.net/compiler-data-visualization/\n",
    "\n",
    "[3] _'Title'_, Author, (Mon YYYY)\n"
   ]
  },
  {
   "cell_type": "code",
   "execution_count": null,
   "metadata": {
    "collapsed": true
   },
   "outputs": [],
   "source": []
  },
  {
   "cell_type": "code",
   "execution_count": null,
   "metadata": {
    "collapsed": true
   },
   "outputs": [],
   "source": []
  }
 ],
 "metadata": {
  "kernelspec": {
   "display_name": "Python [Root]",
   "language": "python",
   "name": "Python [Root]"
  },
  "language_info": {
   "codemirror_mode": {
    "name": "ipython",
    "version": 2
   },
   "file_extension": ".py",
   "mimetype": "text/x-python",
   "name": "python",
   "nbconvert_exporter": "python",
   "pygments_lexer": "ipython2",
   "version": "2.7.12"
  }
 },
 "nbformat": 4,
 "nbformat_minor": 0
}
