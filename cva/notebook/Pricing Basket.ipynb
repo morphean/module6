{
 "cells": [
  {
   "cell_type": "markdown",
   "metadata": {},
   "source": [
    "# Pricing Credit Portfolio"
   ]
  },
  {
   "cell_type": "markdown",
   "metadata": {},
   "source": [
    "In this exercise we will price a basket of five reference names. I will be using the following Sovereign names:\n",
    "\n",
    "- UK\n",
    "- US\n",
    "- Germany\n",
    "- France\n",
    "- Austria\n",
    "\n",
    "Consider different inputs and how they affect the results - Risk and Sensitivity Analysis.\n",
    "\n",
    "Where possible I have tried to implement some performance comparisons of the different computational methods, using Anaconda from continuum.io it is possible to test both vectorized CPU and GPU methods."
   ]
  },
  {
   "cell_type": "markdown",
   "metadata": {},
   "source": [
    "## Introduction\n",
    "\n",
    "A Basket Default Swap (BDS) is an OTC exotic and can be considered along with a Credit Default Swap as a product that offers some protection (it is unlikely that return would equal the original investment in the occurence of a default) against a credit event, but the difference is that a BDS insures against a credit event on the $k^{th}$ default on a basket of n reference names. It should be noted that the payment is made for that entity only and not the rest of the names in the basket. In this particular example we will be using 5:\n",
    "\n",
    "* UK 5Y\n",
    "* US 5Y\n",
    "* Germany 5Y\n",
    "* France 5Y\n",
    "* Austria 5Y\n",
    "\n",
    "The premium (par spread) is paid as a fee over the life of contract or in the event of the $k^{th}$ default a return for the loss. Once the model / algorithm is established it will be possible to vary the input components to see how they affect the results, this can be found under the Risk and Sensitivity Analysis section.\n",
    "        "
   ]
  },
  {
   "cell_type": "markdown",
   "metadata": {},
   "source": [
    "## Outline\n",
    "\n",
    "To simulate a credit event we will use the following indicator function:\n",
    "\n",
    "$I_D(t) = 1_{{ \\tau \\gt T}}$\n",
    "\n",
    "$       = \\Big\\{$"
   ]
  },
  {
   "cell_type": "markdown",
   "metadata": {},
   "source": [
    "### Poisson Process\n",
    "\n",
    "The"
   ]
  },
  {
   "cell_type": "markdown",
   "metadata": {},
   "source": [
    "## Risk and Sensitivity Analysis\n",
    "\n",
    "#### Correlation Adjustment\n",
    "\n",
    "#### Spread Adjustment"
   ]
  },
  {
   "cell_type": "markdown",
   "metadata": {},
   "source": [
    "## Conclusion\n"
   ]
  },
  {
   "cell_type": "code",
   "execution_count": null,
   "metadata": {
    "collapsed": true
   },
   "outputs": [],
   "source": []
  }
 ],
 "metadata": {
  "kernelspec": {
   "display_name": "Python [Root]",
   "language": "python",
   "name": "Python [Root]"
  },
  "language_info": {
   "codemirror_mode": {
    "name": "ipython",
    "version": 2
   },
   "file_extension": ".py",
   "mimetype": "text/x-python",
   "name": "python",
   "nbconvert_exporter": "python",
   "pygments_lexer": "ipython2",
   "version": "2.7.12"
  }
 },
 "nbformat": 4,
 "nbformat_minor": 0
}
