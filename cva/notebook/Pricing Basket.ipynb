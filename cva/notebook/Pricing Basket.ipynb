{
 "cells": [
  {
   "cell_type": "markdown",
   "metadata": {},
   "source": [
    "# Pricing Credit Portfolio"
   ]
  },
  {
   "cell_type": "markdown",
   "metadata": {},
   "source": [
    "In this exercise we will price a basket of five reference names. I will be using the following Sovereign names:\n",
    "\n",
    "- UK\n",
    "- US\n",
    "- Germany\n",
    "- France\n",
    "- Austria\n",
    "\n",
    "Consider different inputs and how they affect the results - Risk and Sensitivity Analysis.\n",
    "\n",
    "Where possible I have tried to implement some performance comparisons of the different computational methods, using Anaconda from continuum.io it is possible to test both vectorized CPU and GPU methods."
   ]
  },
  {
   "cell_type": "code",
   "execution_count": 3,
   "metadata": {
    "collapsed": false
   },
   "outputs": [
    {
     "name": "stderr",
     "output_type": "stream",
     "text": [
      "Vendor:  Continuum Analytics, Inc.\n",
      "Package: mkl\n",
      "Message: trial mode expires in 29 days\n"
     ]
    },
    {
     "name": "stdout",
     "output_type": "stream",
     "text": [
      "True\n",
      "Empirical Mean of AAPL: 106.978196302\n",
      "Empirical Var of AAPL: 11423.4672628\n"
     ]
    }
   ],
   "source": [
    "import notebook.app.BasketPricing"
   ]
  },
  {
   "cell_type": "markdown",
   "metadata": {},
   "source": [
    "## Introduction\n",
    "\n",
    "A Basket Default Swap (BDS) is an OTC exotic and can be considered along with a Credit Default Swap as a product that offers some protection (it is unlikely that return would equal the original investment in the occurence of a default) against a credit event, but the difference is that a BDS insures against a credit event on the $k^{th}$ default on a basket of n reference names In this particular example we will be using 5:\n",
    "\n",
    "* UK 5Y\n",
    "* US 5Y\n",
    "* Germany 5Y\n",
    "* France 5Y\n",
    "* Austria 5Y\n",
    "\n",
    "The premium (par spread) is paid as a fee over the life of contract or in the event of the $k^{th}$ default a return for the loss.\n",
    "\n",
    "## Outline\n",
    "\n",
    "To simulate a credit event we will use the following indicator function:\n",
    "\n",
    "$I_D(t) = 1_{{ \\tau \\gt T}}$\n",
    "\n",
    "$\\left \\begin        = \\Bigg \\left{}$\n",
    "        "
   ]
  },
  {
   "cell_type": "code",
   "execution_count": null,
   "metadata": {
    "collapsed": true
   },
   "outputs": [],
   "source": []
  },
  {
   "cell_type": "code",
   "execution_count": null,
   "metadata": {
    "collapsed": true
   },
   "outputs": [],
   "source": []
  }
 ],
 "metadata": {
  "kernelspec": {
   "display_name": "Python [Root]",
   "language": "python",
   "name": "Python [Root]"
  },
  "language_info": {
   "codemirror_mode": {
    "name": "ipython",
    "version": 2
   },
   "file_extension": ".py",
   "mimetype": "text/x-python",
   "name": "python",
   "nbconvert_exporter": "python",
   "pygments_lexer": "ipython2",
   "version": "2.7.12"
  }
 },
 "nbformat": 4,
 "nbformat_minor": 0
}
