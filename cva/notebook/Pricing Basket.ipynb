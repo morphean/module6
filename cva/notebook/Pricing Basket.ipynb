{
 "cells": [
  {
   "cell_type": "heading",
   "metadata": {
    "collapsed": true
   },
   "level": 1,
   "source": [
    ""
   ]
  },
  {
   "cell_type": "markdown",
   "metadata": {},
   "source": [
    "# Pricing Credit Portfolio"
   ]
  },
  {
   "cell_type": "markdown",
   "metadata": {},
   "source": [
    "In this exercise we will price a basket of five reference names. I will be using the following Sovereign names:\n",
    "\n",
    "- UK\n",
    "- US\n",
    "- Germany\n",
    "- France\n",
    "- Austria\n",
    "\n",
    "Consider different inputs and how they affect the results - Risk and Sensitivity Analysis.\n",
    "\n",
    "Where possible I have tried to implement some performance comparisons of the different computational methods, using Anaconda from continuum.io it is possible to test both vectorized CPU and GPU methods."
   ]
  },
  {
   "cell_type": "code",
   "execution_count": 3,
   "metadata": {},
   "outputs": [
    {
     "name": "stderr",
     "output_type": "stream",
     "text": [
      "Vendor:  Continuum Analytics, Inc.\nPackage: mkl\nMessage: trial mode expires in 29 days\n"
     ]
    },
    {
     "name": "stdout",
     "output_type": "stream",
     "text": [
      "True\nEmpirical Mean of AAPL: 106.978196302\nEmpirical Var of AAPL: 11423.4672628\n"
     ]
    }
   ],
   "source": [
    "import notebook.app.BasketPricing"
   ]
  },
  {
   "cell_type": "code",
   "execution_count": null,
   "metadata": {},
   "outputs": [],
   "source": [
    ""
   ]
  }
 ],
 "metadata": {
  "kernelspec": {
   "display_name": "Python 2",
   "language": "python",
   "name": "python2"
  },
  "language_info": {
   "codemirror_mode": {
    "name": "ipython",
    "version": 2.0
   },
   "file_extension": ".py",
   "mimetype": "text/x-python",
   "name": "python",
   "nbconvert_exporter": "python",
   "pygments_lexer": "ipython2",
   "version": "2.7.6"
  }
 },
 "nbformat": 4,
 "nbformat_minor": 0
}